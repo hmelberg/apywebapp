{
  "nbformat": 4,
  "nbformat_minor": 0,
  "metadata": {
    "colab": {
      "provenance": []
    },
    "kernelspec": {
      "name": "python3",
      "display_name": "Python 3"
    },
    "language_info": {
      "name": "python"
    }
  },
  "cells": [
    {
      "cell_type": "markdown",
      "source": [
        "# This is a title\n",
        "Here is some markdown\n",
        "\n",
        "::: accordion\n",
        "A title\n",
        "\n",
        "And some text\n",
        ":::\n",
        "\n",
        "What about math?\n",
        "@e=mc^2@\n"
      ],
      "metadata": {
        "id": "53DYIcDzyaCg"
      }
    },
    {
      "cell_type": "code",
      "source": [
        "import pandas as pd\n",
        "s=pd.Series([2,6,4])\n",
        "s.plot()"
      ],
      "metadata": {
        "id": "W-TSdm1rvpFq"
      },
      "execution_count": null,
      "outputs": []
    },
    {
      "cell_type": "code",
      "source": [
        "#%%cell\n",
        "import pandas as pd\n",
        "s=pd.Series([2,6,4])\n",
        "s.plot()"
      ],
      "metadata": {
        "id": "pXBQeuhh1Ytf"
      },
      "execution_count": null,
      "outputs": []
    }
  ]
}